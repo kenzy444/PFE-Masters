{
 "cells": [
  {
   "cell_type": "code",
   "execution_count": 1,
   "metadata": {},
   "outputs": [],
   "source": [
    "import pandas as pd\n",
    "from sklearn.feature_extraction.text import TfidfVectorizer\n",
    "from sklearn.svm import SVC\n",
    "from sklearn.linear_model import SGDClassifier\n",
    "from sklearn.metrics import classification_report\n",
    "from sklearn.ensemble import RandomForestClassifier\n",
    "import nltk\n",
    "from gensim.models import Word2Vec\n",
    "import numpy as np\n",
    "from nltk.stem.snowball import SnowballStemmer\n",
    "from nltk.stem import WordNetLemmatizer\n",
    "\n",
    "\n"
   ]
  },
  {
   "cell_type": "code",
   "execution_count": 11,
   "metadata": {},
   "outputs": [
    {
     "data": {
      "text/html": [
       "<div>\n",
       "<style scoped>\n",
       "    .dataframe tbody tr th:only-of-type {\n",
       "        vertical-align: middle;\n",
       "    }\n",
       "\n",
       "    .dataframe tbody tr th {\n",
       "        vertical-align: top;\n",
       "    }\n",
       "\n",
       "    .dataframe thead th {\n",
       "        text-align: right;\n",
       "    }\n",
       "</style>\n",
       "<table border=\"1\" class=\"dataframe\">\n",
       "  <thead>\n",
       "    <tr style=\"text-align: right;\">\n",
       "      <th></th>\n",
       "      <th>comment</th>\n",
       "      <th>label</th>\n",
       "    </tr>\n",
       "  </thead>\n",
       "  <tbody>\n",
       "    <tr>\n",
       "      <th>0</th>\n",
       "      <td>مهبل عاقلين حدك يخدم بلد سويت مادية</td>\n",
       "      <td>1</td>\n",
       "    </tr>\n",
       "    <tr>\n",
       "      <th>1</th>\n",
       "      <td>غض البصر عن المحرم ليس بي السهل عن الرجال والن...</td>\n",
       "      <td>1</td>\n",
       "    </tr>\n",
       "    <tr>\n",
       "      <th>2</th>\n",
       "      <td>يا لكم من جهلة تدعون العلم  أين أنتم من البوصي...</td>\n",
       "      <td>1</td>\n",
       "    </tr>\n",
       "    <tr>\n",
       "      <th>3</th>\n",
       "      <td>انا مكبوت كرحلي الكبت نخم باش نسامحك وراس جبهت...</td>\n",
       "      <td>1</td>\n",
       "    </tr>\n",
       "    <tr>\n",
       "      <th>4</th>\n",
       "      <td>انهم يحلون في مابينهم واستنساخ ادعية تحريظية ف...</td>\n",
       "      <td>1</td>\n",
       "    </tr>\n",
       "    <tr>\n",
       "      <th>...</th>\n",
       "      <td>...</td>\n",
       "      <td>...</td>\n",
       "    </tr>\n",
       "    <tr>\n",
       "      <th>11315</th>\n",
       "      <td>ماتو حبيبتي وبقاو هاذو الحثالة ياو فاقو قع هذا...</td>\n",
       "      <td>0</td>\n",
       "    </tr>\n",
       "    <tr>\n",
       "      <th>11316</th>\n",
       "      <td>حضو لي حاكم ولاية و بلدية دو راهم يرسكو على جا...</td>\n",
       "      <td>1</td>\n",
       "    </tr>\n",
       "    <tr>\n",
       "      <th>11317</th>\n",
       "      <td>الصورة في الوراء من التبوريضة المغربية حتى هي ...</td>\n",
       "      <td>1</td>\n",
       "    </tr>\n",
       "    <tr>\n",
       "      <th>11318</th>\n",
       "      <td>اشمن تهريب الزطله انت مالها منين كاتجي من حداك...</td>\n",
       "      <td>0</td>\n",
       "    </tr>\n",
       "    <tr>\n",
       "      <th>11319</th>\n",
       "      <td>يقول الشاعر ، ذهبت الى العطار تبغي شبابهافهل ي...</td>\n",
       "      <td>0</td>\n",
       "    </tr>\n",
       "  </tbody>\n",
       "</table>\n",
       "<p>11320 rows × 2 columns</p>\n",
       "</div>"
      ],
      "text/plain": [
       "                                                 comment  label\n",
       "0                    مهبل عاقلين حدك يخدم بلد سويت مادية      1\n",
       "1      غض البصر عن المحرم ليس بي السهل عن الرجال والن...      1\n",
       "2      يا لكم من جهلة تدعون العلم  أين أنتم من البوصي...      1\n",
       "3      انا مكبوت كرحلي الكبت نخم باش نسامحك وراس جبهت...      1\n",
       "4      انهم يحلون في مابينهم واستنساخ ادعية تحريظية ف...      1\n",
       "...                                                  ...    ...\n",
       "11315  ماتو حبيبتي وبقاو هاذو الحثالة ياو فاقو قع هذا...      0\n",
       "11316  حضو لي حاكم ولاية و بلدية دو راهم يرسكو على جا...      1\n",
       "11317  الصورة في الوراء من التبوريضة المغربية حتى هي ...      1\n",
       "11318  اشمن تهريب الزطله انت مالها منين كاتجي من حداك...      0\n",
       "11319  يقول الشاعر ، ذهبت الى العطار تبغي شبابهافهل ي...      0\n",
       "\n",
       "[11320 rows x 2 columns]"
      ]
     },
     "execution_count": 11,
     "metadata": {},
     "output_type": "execute_result"
    }
   ],
   "source": [
    "train = pd.read_csv(\"train.csv\")\n",
    "train"
   ]
  },
  {
   "cell_type": "code",
   "execution_count": 12,
   "metadata": {},
   "outputs": [
    {
     "data": {
      "text/html": [
       "<div>\n",
       "<style scoped>\n",
       "    .dataframe tbody tr th:only-of-type {\n",
       "        vertical-align: middle;\n",
       "    }\n",
       "\n",
       "    .dataframe tbody tr th {\n",
       "        vertical-align: top;\n",
       "    }\n",
       "\n",
       "    .dataframe thead th {\n",
       "        text-align: right;\n",
       "    }\n",
       "</style>\n",
       "<table border=\"1\" class=\"dataframe\">\n",
       "  <thead>\n",
       "    <tr style=\"text-align: right;\">\n",
       "      <th></th>\n",
       "      <th>comment</th>\n",
       "      <th>label</th>\n",
       "    </tr>\n",
       "  </thead>\n",
       "  <tbody>\n",
       "    <tr>\n",
       "      <th>0</th>\n",
       "      <td>قيل لأحد الصالحين؛ كم بينا وبينعرش الرحمن ؟  ...</td>\n",
       "      <td>0</td>\n",
       "    </tr>\n",
       "    <tr>\n",
       "      <th>1</th>\n",
       "      <td>شروق غلطت غلط كبير إعلان حول تواصل إجتماع نسيب...</td>\n",
       "      <td>0</td>\n",
       "    </tr>\n",
       "    <tr>\n",
       "      <th>2</th>\n",
       "      <td>عيب وعار أن الرئيس الجزائري يقول إن الصحراء مح...</td>\n",
       "      <td>1</td>\n",
       "    </tr>\n",
       "    <tr>\n",
       "      <th>3</th>\n",
       "      <td>على بلحاج راجل و الدولة عميلة فرنسا العدو كل ا...</td>\n",
       "      <td>1</td>\n",
       "    </tr>\n",
       "    <tr>\n",
       "      <th>4</th>\n",
       "      <td>لكن في المغرب و له الحمد يوم بعد يوم نتلمس الق...</td>\n",
       "      <td>0</td>\n",
       "    </tr>\n",
       "    <tr>\n",
       "      <th>...</th>\n",
       "      <td>...</td>\n",
       "      <td>...</td>\n",
       "    </tr>\n",
       "    <tr>\n",
       "      <th>2826</th>\n",
       "      <td>وعلى كل حال الرواية لا تعود لسلفية ولا تعبر عن...</td>\n",
       "      <td>0</td>\n",
       "    </tr>\n",
       "    <tr>\n",
       "      <th>2827</th>\n",
       "      <td>مراكش قادر على القطاع نتاعك دير الاستقالة نتاع...</td>\n",
       "      <td>0</td>\n",
       "    </tr>\n",
       "    <tr>\n",
       "      <th>2828</th>\n",
       "      <td>لاحول ولا قوة الاباله الهم إن هذا منكر وبدع وش...</td>\n",
       "      <td>0</td>\n",
       "    </tr>\n",
       "    <tr>\n",
       "      <th>2829</th>\n",
       "      <td>تمثيل صفر كفاه يحبس فالوطو وخاىج بجري قدامها</td>\n",
       "      <td>0</td>\n",
       "    </tr>\n",
       "    <tr>\n",
       "      <th>2830</th>\n",
       "      <td>زد عليه الجزائر لم تقم بالتطبيع مع اليهود سبحا...</td>\n",
       "      <td>1</td>\n",
       "    </tr>\n",
       "  </tbody>\n",
       "</table>\n",
       "<p>2831 rows × 2 columns</p>\n",
       "</div>"
      ],
      "text/plain": [
       "                                                comment  label\n",
       "0      قيل لأحد الصالحين؛ كم بينا وبينعرش الرحمن ؟  ...      0\n",
       "1     شروق غلطت غلط كبير إعلان حول تواصل إجتماع نسيب...      0\n",
       "2     عيب وعار أن الرئيس الجزائري يقول إن الصحراء مح...      1\n",
       "3     على بلحاج راجل و الدولة عميلة فرنسا العدو كل ا...      1\n",
       "4     لكن في المغرب و له الحمد يوم بعد يوم نتلمس الق...      0\n",
       "...                                                 ...    ...\n",
       "2826  وعلى كل حال الرواية لا تعود لسلفية ولا تعبر عن...      0\n",
       "2827  مراكش قادر على القطاع نتاعك دير الاستقالة نتاع...      0\n",
       "2828  لاحول ولا قوة الاباله الهم إن هذا منكر وبدع وش...      0\n",
       "2829       تمثيل صفر كفاه يحبس فالوطو وخاىج بجري قدامها      0\n",
       "2830  زد عليه الجزائر لم تقم بالتطبيع مع اليهود سبحا...      1\n",
       "\n",
       "[2831 rows x 2 columns]"
      ]
     },
     "execution_count": 12,
     "metadata": {},
     "output_type": "execute_result"
    }
   ],
   "source": [
    "test = pd.read_csv(\"test.csv\")\n",
    "test"
   ]
  },
  {
   "cell_type": "code",
   "execution_count": 13,
   "metadata": {},
   "outputs": [],
   "source": [
    "# Initialize stemmer and lemmatizer\n",
    "stemmer = SnowballStemmer(\"arabic\")\n",
    "lemmatizer = WordNetLemmatizer()\n",
    "\n",
    "# Define a function for text preprocessing\n",
    "def preprocess_text(text):\n",
    "    # Tokenize the text\n",
    "    tokens = nltk.word_tokenize(text)\n",
    "    \n",
    "    # Stemming\n",
    "    stemmed_tokens = [stemmer.stem(word) for word in tokens]\n",
    "    \n",
    "    # Lemmatization\n",
    "    lemmatized_tokens = [lemmatizer.lemmatize(word) for word in stemmed_tokens]\n",
    "    \n",
    "    return ' '.join(lemmatized_tokens)\n",
    "\n",
    "# Apply text preprocessing to the comments column\n",
    "train['comment'] = train['comment'].apply(preprocess_text)\n",
    "test['comment'] = test['comment'].apply(preprocess_text)\n",
    "\n"
   ]
  },
  {
   "cell_type": "code",
   "execution_count": 15,
   "metadata": {},
   "outputs": [],
   "source": [
    "# TF-IDF Vectorization\n",
    "tfidf_vectorizer = TfidfVectorizer()\n",
    "X_train = tfidf_vectorizer.fit_transform(train['comment'])\n",
    "X_test = tfidf_vectorizer.transform(test['comment'])\n",
    "\n",
    "y_train = train['label']\n",
    "y_test = test['label']\n"
   ]
  },
  {
   "cell_type": "code",
   "execution_count": 17,
   "metadata": {},
   "outputs": [
    {
     "name": "stdout",
     "output_type": "stream",
     "text": [
      "              precision    recall  f1-score   support\n",
      "\n",
      "           0       0.67      0.67      0.67      1270\n",
      "           1       0.73      0.73      0.73      1561\n",
      "\n",
      "    accuracy                           0.70      2831\n",
      "   macro avg       0.70      0.70      0.70      2831\n",
      "weighted avg       0.70      0.70      0.70      2831\n",
      "\n"
     ]
    }
   ],
   "source": [
    "# Train SVM classifier\n",
    "svm_classifier = SVC(kernel='linear', probability=True)\n",
    "svm_classifier.fit(X_train, y_train)\n",
    "\n",
    "# Predict on testing set\n",
    "y_pred = svm_classifier.predict(X_test)\n",
    "\n",
    "# Calculate accuracy\n",
    "print(classification_report(y_test, y_pred ))\n",
    "\n"
   ]
  },
  {
   "cell_type": "code",
   "execution_count": 20,
   "metadata": {},
   "outputs": [
    {
     "name": "stdout",
     "output_type": "stream",
     "text": [
      "              precision    recall  f1-score   support\n",
      "\n",
      "           0       0.63      0.67      0.65      1270\n",
      "           1       0.72      0.68      0.70      1561\n",
      "\n",
      "    accuracy                           0.68      2831\n",
      "   macro avg       0.67      0.68      0.67      2831\n",
      "weighted avg       0.68      0.68      0.68      2831\n",
      "\n"
     ]
    }
   ],
   "source": [
    "rf_classifier = RandomForestClassifier(n_estimators=200, random_state=42)\n",
    "\n",
    "rf_classifier.fit(X_train, y_train)\n",
    "# Predict on testing set\n",
    "y_pred = rf_classifier.predict(X_test)\n",
    "\n",
    "# Calculate accuracy\n",
    "print(classification_report(y_test, y_pred ))"
   ]
  },
  {
   "cell_type": "code",
   "execution_count": 19,
   "metadata": {},
   "outputs": [
    {
     "name": "stdout",
     "output_type": "stream",
     "text": [
      "              precision    recall  f1-score   support\n",
      "\n",
      "           0       0.67      0.66      0.66      1270\n",
      "           1       0.72      0.74      0.73      1561\n",
      "\n",
      "    accuracy                           0.70      2831\n",
      "   macro avg       0.70      0.70      0.70      2831\n",
      "weighted avg       0.70      0.70      0.70      2831\n",
      "\n"
     ]
    },
    {
     "name": "stderr",
     "output_type": "stream",
     "text": [
      "C:\\Users\\Lenovo\\AppData\\Roaming\\Python\\Python311\\site-packages\\sklearn\\linear_model\\_stochastic_gradient.py:163: FutureWarning: The loss 'log' was deprecated in v1.1 and will be removed in version 1.3. Use `loss='log_loss'` which is equivalent.\n",
      "  warnings.warn(\n"
     ]
    }
   ],
   "source": [
    "sgd_classifier = SGDClassifier(loss='log', alpha=0.00001, max_iter=1000, random_state=42)\n",
    "sgd_classifier.fit(X_train, y_train)\n",
    "\n",
    "# Predict on test set\n",
    "predictions = sgd_classifier.predict(X_test)\n",
    "print(classification_report(y_test,predictions ))\n"
   ]
  },
  {
   "cell_type": "code",
   "execution_count": null,
   "metadata": {},
   "outputs": [],
   "source": []
  }
 ],
 "metadata": {
  "kernelspec": {
   "display_name": "Python 3",
   "language": "python",
   "name": "python3"
  },
  "language_info": {
   "codemirror_mode": {
    "name": "ipython",
    "version": 3
   },
   "file_extension": ".py",
   "mimetype": "text/x-python",
   "name": "python",
   "nbconvert_exporter": "python",
   "pygments_lexer": "ipython3",
   "version": "3.11.0"
  }
 },
 "nbformat": 4,
 "nbformat_minor": 2
}
