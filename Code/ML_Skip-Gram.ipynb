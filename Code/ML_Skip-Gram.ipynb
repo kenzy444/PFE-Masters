{
 "cells": [
  {
   "cell_type": "code",
   "execution_count": 1,
   "metadata": {},
   "outputs": [],
   "source": [
    "import pandas as pd\n",
    "from sklearn.ensemble import RandomForestClassifier\n",
    "from gensim.models import Word2Vec\n",
    "import numpy as np\n",
    "from sklearn.svm import SVC\n",
    "from sklearn.linear_model import SGDClassifier\n",
    "from nltk.tokenize import word_tokenize\n",
    "import nltk\n",
    "from nltk.stem.snowball import SnowballStemmer\n",
    "from sklearn.metrics import classification_report\n",
    "from nltk.stem import WordNetLemmatizer\n"
   ]
  },
  {
   "cell_type": "code",
   "execution_count": 3,
   "metadata": {},
   "outputs": [],
   "source": [
    "train = pd.read_csv(\"train.csv\")\n",
    "test = pd.read_csv(\"test.csv\")"
   ]
  },
  {
   "cell_type": "code",
   "execution_count": 4,
   "metadata": {},
   "outputs": [],
   "source": [
    "# Initialize stemmer and lemmatizer\n",
    "stemmer = SnowballStemmer(\"arabic\")\n",
    "lemmatizer = WordNetLemmatizer()\n",
    "\n",
    "# Define a function for text preprocessing\n",
    "def preprocess_text(text):\n",
    "    # Tokenize the text\n",
    "    tokens = nltk.word_tokenize(text)\n",
    "    \n",
    "    # Stemming\n",
    "    stemmed_tokens = [stemmer.stem(word) for word in tokens]\n",
    "    \n",
    "    # Lemmatization\n",
    "    lemmatized_tokens = [lemmatizer.lemmatize(word) for word in stemmed_tokens]\n",
    "    \n",
    "    return  lemmatized_tokens\n",
    "\n",
    "train_comments = train.comment.apply(preprocess_text)\n",
    "test_comments = test.comment.apply(preprocess_text)"
   ]
  },
  {
   "cell_type": "code",
   "execution_count": 5,
   "metadata": {},
   "outputs": [],
   "source": [
    "# Train Word2Vec model (have the same vector representation)\n",
    "word2vec_model = Word2Vec(sentences=train_comments, vector_size=100, window=5, min_count=1, workers=4, sg=1)\n"
   ]
  },
  {
   "cell_type": "code",
   "execution_count": 6,
   "metadata": {},
   "outputs": [],
   "source": [
    "def get_text_representation(comment):\n",
    "    # Initialize an empty array for the vector representation\n",
    "    vector_representation = np.zeros(word2vec_model.vector_size)\n",
    "    num_words = 0\n",
    "    \n",
    "    # Get the vectors for each word in the comment and accumulate them\n",
    "    for word in comment:\n",
    "        if word in word2vec_model.wv:\n",
    "            vector_representation += word2vec_model.wv[word]\n",
    "            num_words += 1\n",
    "    \n",
    "    # Compute the average vector representation\n",
    "    if num_words > 0:\n",
    "        vector_representation /= num_words\n",
    "    \n",
    "    return vector_representation\n"
   ]
  },
  {
   "cell_type": "code",
   "execution_count": 7,
   "metadata": {},
   "outputs": [],
   "source": [
    "# Get text representations for all comments\n",
    "train_representations = np.array([get_text_representation(comment) for comment in train_comments])\n",
    "test_representations = np.array([get_text_representation(comment) for comment in test_comments])\n",
    "\n",
    "\n",
    "X_train = train_representations\n",
    "X_test = test_representations\n",
    "y_train = train[\"label\"]\n",
    "y_test = test['label']"
   ]
  },
  {
   "cell_type": "code",
   "execution_count": 1,
   "metadata": {},
   "outputs": [],
   "source": [
    "\n",
    "# Initialize and train Random Forest Classifier\n",
    "rf_classifier = RandomForestClassifier(n_estimators=200, random_state=42)\n",
    "rf_classifier.fit(X_train, y_train)\n",
    "\n",
    "# Predict on test set\n",
    "predictions = rf_classifier.predict(X_test)\n",
    "\n",
    "# Evaluate model\n",
    "print(classification_report(y_test, predictions ))"
   ]
  },
  {
   "cell_type": "code",
   "execution_count": 8,
   "metadata": {},
   "outputs": [
    {
     "name": "stdout",
     "output_type": "stream",
     "text": [
      "              precision    recall  f1-score   support\n",
      "\n",
      "           0       0.59      0.56      0.58      1270\n",
      "           1       0.66      0.68      0.67      1561\n",
      "\n",
      "    accuracy                           0.63      2831\n",
      "   macro avg       0.62      0.62      0.62      2831\n",
      "weighted avg       0.63      0.63      0.63      2831\n",
      "\n"
     ]
    }
   ],
   "source": [
    "svc_classifier = SVC(kernel='linear', C=1.0, random_state=42)\n",
    "svc_classifier.fit(X_train, y_train)\n",
    "\n",
    "# Predict on test set\n",
    "predictions = svc_classifier.predict(X_test)\n",
    "\n",
    "# Evaluate model\n",
    "print(classification_report(y_test, predictions ))"
   ]
  },
  {
   "cell_type": "code",
   "execution_count": 3,
   "metadata": {},
   "outputs": [],
   "source": [
    "sgd_classifier = SGDClassifier(loss='log', alpha=0.0001, max_iter=1000, random_state=42)\n",
    "sgd_classifier.fit(X_train, y_train)\n",
    "\n",
    "# Predict on test set\n",
    "predictions = sgd_classifier.predict(X_test)\n",
    "\n",
    "# Evaluate model\n",
    "print(classification_report(y_test, predictions ))"
   ]
  },
  {
   "cell_type": "code",
   "execution_count": null,
   "metadata": {},
   "outputs": [],
   "source": []
  }
 ],
 "metadata": {
  "kernelspec": {
   "display_name": "Python 3",
   "language": "python",
   "name": "python3"
  },
  "language_info": {
   "codemirror_mode": {
    "name": "ipython",
    "version": 3
   },
   "file_extension": ".py",
   "mimetype": "text/x-python",
   "name": "python",
   "nbconvert_exporter": "python",
   "pygments_lexer": "ipython3",
   "version": "3.11.0"
  }
 },
 "nbformat": 4,
 "nbformat_minor": 2
}
